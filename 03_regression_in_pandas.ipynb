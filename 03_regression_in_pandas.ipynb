{
 "cells": [
  {
   "cell_type": "markdown",
   "metadata": {},
   "source": [
    "# Part 3: Regression in Pandas"
   ]
  },
  {
   "cell_type": "code",
   "execution_count": null,
   "metadata": {
    "collapsed": false,
    "jupyter": {
     "outputs_hidden": false
    }
   },
   "outputs": [],
   "source": [
    "\"\"\"\n",
    "----------------------------------------------------------------------\n",
    "Filename : 03_regression_in_pandas_sm.py\n",
    "Date     : 12th Dec, 2013\n",
    "Author   : Jaidev Deshpande\n",
    "Purpose  : Introduction to linear regression through Pandas and Statsmodels\n",
    "Libraries: NumPy, Pandas, Matplotlib\n",
    "----------------------------------------------------------------------\n",
    "\"\"\""
   ]
  },
  {
   "cell_type": "code",
   "execution_count": null,
   "metadata": {
    "collapsed": false,
    "jupyter": {
     "outputs_hidden": false
    }
   },
   "outputs": [],
   "source": [
    "# standard library imports\n",
    "from os.path import join\n",
    "\n",
    "# system library imports\n",
    "import numpy as np\n",
    "import matplotlib.pyplot as plt\n",
    "import pandas as pd\n",
    "from sklearn.linear_model import LinearRegression\n",
    "%matplotlib inline"
   ]
  },
  {
   "cell_type": "code",
   "execution_count": null,
   "metadata": {
    "collapsed": false,
    "jupyter": {
     "outputs_hidden": false
    }
   },
   "outputs": [],
   "source": [
    "# Files to load during this part.\n",
    "longevity = join('data','longevity.csv')\n",
    "heights_weights = join('data','01_heights_weights_genders.csv')\n",
    "pageviews = join('data','top_1000_sites.tsv')"
   ]
  },
  {
   "cell_type": "code",
   "execution_count": null,
   "metadata": {
    "collapsed": false,
    "jupyter": {
     "outputs_hidden": false
    }
   },
   "outputs": [],
   "source": [
    "# DataFrames of the above datasets\n",
    "longevity = pd.read_csv(longevity)\n",
    "hwg       = pd.read_csv(heights_weights)\n",
    "\n",
    "# Columns to consider for the pageviews dataset\n",
    "pageview_columns = ['Rank','UniqueVisitors','PageViews','HasAdvertising',\n",
    "                    'InEnglish']\n",
    "pageviews = pd.read_csv(pageviews, sep='\\t', usecols=pageview_columns)"
   ]
  },
  {
   "cell_type": "code",
   "execution_count": null,
   "metadata": {
    "collapsed": false,
    "jupyter": {
     "outputs_hidden": false
    }
   },
   "outputs": [],
   "source": [
    "longevity.head()"
   ]
  },
  {
   "cell_type": "markdown",
   "metadata": {},
   "source": [
    "## Regression in Pandas"
   ]
  },
  {
   "cell_type": "code",
   "execution_count": null,
   "metadata": {
    "collapsed": false,
    "jupyter": {
     "outputs_hidden": false
    }
   },
   "outputs": [],
   "source": [
    "def plot_kde_smoking(df):\n",
    "    \"\"\"\n",
    "    Draw the KDE plot of the longevity dataset\n",
    "    \"\"\"\n",
    "    smokers = df[df['Smokes']==1]['AgeAtDeath']\n",
    "    non_smokers = df[df['Smokes']==0]['AgeAtDeath']\n",
    "    plt.figure()\n",
    "    fig, axes = plt.subplots(nrows=2, ncols=1)\n",
    "    smokers.plot(ax=axes[0],kind='kde',figsize=(20,10))\n",
    "    axes[0].set_xbound(30,110)\n",
    "    axes[0].set_title('Smokers')\n",
    "    axes[0].set_xlabel('Age')\n",
    "    non_smokers.plot(ax=axes[1],kind='kde',sharex=axes[0], figsize=(20,10))\n",
    "    axes[1].set_xbound(30,110)\n",
    "    axes[1].set_title('Non-Smokers')\n",
    "    axes[1].set_xlabel('Age')\n",
    "    plt.show()"
   ]
  },
  {
   "cell_type": "code",
   "execution_count": null,
   "metadata": {
    "collapsed": false,
    "jupyter": {
     "outputs_hidden": false
    }
   },
   "outputs": [],
   "source": [
    "plot_kde_smoking(longevity)"
   ]
  },
  {
   "cell_type": "code",
   "execution_count": null,
   "metadata": {
    "collapsed": false,
    "jupyter": {
     "outputs_hidden": false
    }
   },
   "outputs": [],
   "source": [
    "def mean_squared_error(df,show_plot=True):\n",
    "    \"\"\"\n",
    "    Get the mean squared error obtained when fitting a straight line\n",
    "    through the longevity data.\n",
    "    \"\"\"\n",
    "    age_at_death = df['AgeAtDeath']\n",
    "    unique_ages = age_at_death.unique()\n",
    "    unique_ages.sort()\n",
    "    agediff = np.zeros((age_at_death.shape[0],unique_ages.shape[0]),\n",
    "                        dtype=float)\n",
    "    for i in range(agediff.shape[1]):\n",
    "        agediff[:,i] = (age_at_death - unique_ages[i])**2\n",
    "    mse_age = agediff.mean(0)\n",
    "    if show_plot:\n",
    "        plt.figure(figsize=(20,10))\n",
    "        plt.plot(unique_ages, mse_age,'r.', markersize=12)\n",
    "        plt.plot(unique_ages, mse_age, 'b--')\n",
    "        plt.grid()\n",
    "        plt.xlabel('Estimate of Age')\n",
    "        plt.ylabel('Mean Squared Error')\n",
    "        plt.show()\n",
    "    return mse_age\n",
    "\n",
    "def root_mean_squared_error(df,show_plot=False):\n",
    "    return np.sqrt(mean_squared_error(df,show_plot=show_plot))"
   ]
  },
  {
   "cell_type": "code",
   "execution_count": null,
   "metadata": {
    "collapsed": false,
    "jupyter": {
     "outputs_hidden": false
    }
   },
   "outputs": [],
   "source": [
    "mse = mean_squared_error(longevity)\n",
    "print(mse.min())\n",
    "rmse = root_mean_squared_error(longevity)\n",
    "print(rmse.min())"
   ]
  },
  {
   "cell_type": "code",
   "execution_count": null,
   "metadata": {
    "collapsed": false,
    "jupyter": {
     "outputs_hidden": false
    }
   },
   "outputs": [],
   "source": [
    "def plot_ols_fitted(df, xcol, ycol):\n",
    "    \"\"\"\n",
    "    Fit an OLS model with the data contained in `df`,\n",
    "    where `xcol` and `ycol` specify the columns to consider\n",
    "    as the `x` and `y` axes respectively.\n",
    "    \"\"\"\n",
    "    lr = LinearRegression().fit(df[xcol].values.reshape(-1, 1), df[ycol].values)\n",
    "    df_ols = lr.predict(df[xcol].values.reshape(-1, 1))\n",
    "    df['estimate'] = df_ols\n",
    "    fig = plt.figure(figsize=(20,10))\n",
    "    axes = fig.add_subplot(111)\n",
    "    df.plot.scatter(xcol, ycol, ax=axes)\n",
    "    axes.plot(df[xcol], df_ols, c='g',lw=5)\n",
    "    plt.show()\n",
    "    return df_ols"
   ]
  },
  {
   "cell_type": "code",
   "execution_count": null,
   "metadata": {
    "collapsed": false,
    "jupyter": {
     "outputs_hidden": false
    }
   },
   "outputs": [],
   "source": [
    "_ = plot_ols_fitted(hwg, 'Height', 'Weight')"
   ]
  },
  {
   "cell_type": "code",
   "execution_count": null,
   "metadata": {
    "collapsed": false,
    "jupyter": {
     "outputs_hidden": false
    }
   },
   "outputs": [],
   "source": [
    "def compare_sites_by_advertising(df):\n",
    "    \"\"\"\n",
    "    Prints some vital statistics of the pageviews data.\n",
    "    \"\"\"\n",
    "    advertised = df[df['HasAdvertising']=='Yes']\n",
    "    nonadvert = df[df['HasAdvertising']=='No']\n",
    "    print(\"Sites with advertising:\")\n",
    "    print(\"=\"*80)\n",
    "    print(\"Highest Rank\" + 2*\"\\t\", advertised['Rank'].min())\n",
    "    print(\"Mean PageViews\" + 2*\"\\t\", advertised['PageViews'].mean())\n",
    "    print(\"Mean UniqueVisitors\" + \"\\t\", advertised['UniqueVisitors'].mean())\n",
    "    print(\"\\n\")\n",
    "    print(\"Sites w/o advertising:\")\n",
    "    print(\"=\"*80)\n",
    "    print(\"Highest Rank\" + 2*\"\\t\", nonadvert['Rank'].min())\n",
    "    print(\"Mean PageViews\" + 2*\"\\t\", nonadvert['PageViews'].mean())\n",
    "    print(\"Mean UniqueVisitors\" + \"\\t\", nonadvert['UniqueVisitors'].mean())"
   ]
  },
  {
   "cell_type": "code",
   "execution_count": null,
   "metadata": {
    "collapsed": false,
    "jupyter": {
     "outputs_hidden": false
    }
   },
   "outputs": [],
   "source": [
    "compare_sites_by_advertising(pageviews)"
   ]
  },
  {
   "cell_type": "code",
   "execution_count": null,
   "metadata": {
    "collapsed": false,
    "jupyter": {
     "outputs_hidden": false
    }
   },
   "outputs": [],
   "source": [
    "pageviews.columns"
   ]
  },
  {
   "cell_type": "code",
   "execution_count": null,
   "metadata": {
    "collapsed": false,
    "jupyter": {
     "outputs_hidden": false
    }
   },
   "outputs": [],
   "source": [
    "pageviews['UniqueVisitors'] = pageviews['UniqueVisitors'].apply(np.log10)\n",
    "pageviews['PageViews'] = pageviews['PageViews'].apply(np.log10)"
   ]
  },
  {
   "cell_type": "code",
   "execution_count": null,
   "metadata": {
    "collapsed": false,
    "jupyter": {
     "outputs_hidden": false
    }
   },
   "outputs": [],
   "source": [
    "fig = plt.figure(figsize=(20,10))\n",
    "axes = fig.add_subplot(111)\n",
    "pageviews.plot.scatter('UniqueVisitors', 'PageViews', ax=axes, grid=True)\n",
    "lr = LinearRegression()\n",
    "lr.fit(pageviews['UniqueVisitors'].values.reshape(-1, 1), pageviews['PageViews'].values)\n",
    "pageviews['estimate'] = lr.predict(pageviews['UniqueVisitors'].values.reshape(-1, 1))\n",
    "pageviews.plot('UniqueVisitors','estimate',c='g',lw=5, ax=axes)\n",
    "plt.show()"
   ]
  },
  {
   "cell_type": "markdown",
   "metadata": {},
   "source": [
    "### Exercise: Which is the highest ranked non-English website?"
   ]
  },
  {
   "cell_type": "markdown",
   "metadata": {},
   "source": [
    "### Exercise: Is an English website more likely to be popular? (Hint: decide using number of unique visitors.)"
   ]
  }
 ],
 "metadata": {
  "kernelspec": {
   "display_name": "Python 3",
   "language": "python",
   "name": "python3"
  },
  "language_info": {
   "codemirror_mode": {
    "name": "ipython",
    "version": 3
   },
   "file_extension": ".py",
   "mimetype": "text/x-python",
   "name": "python",
   "nbconvert_exporter": "python",
   "pygments_lexer": "ipython3",
   "version": "3.6.8"
  }
 },
 "nbformat": 4,
 "nbformat_minor": 4
}
